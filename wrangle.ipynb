{
 "cells": [
  {
   "cell_type": "code",
   "execution_count": 1,
   "metadata": {},
   "outputs": [],
   "source": [
    "import pandas as pd\n",
    "import numpy as np\n",
    "\n",
    "# visualize\n",
    "import seaborn as sns\n",
    "import matplotlib.pyplot as plt\n",
    "\n",
    "from sklearn.model_selection import train_test_split"
   ]
  },
  {
   "cell_type": "markdown",
   "metadata": {},
   "source": [
    "## Acquire Data\n",
    "\n",
    "- I'm reading `eruptions.xlsx` in from an excel sheet.\n",
    "- My initial `volcanoes` dataset has 659 rows and 36 columns.\n",
    "- I'm reading `movies.csv` in from a csv file.\n",
    "- My initial `movies` dataset has 74 rows and 8 columns.\n",
    "- I'm reading `tfl_bus_safety.xlsx` in from an excel sheet.\n",
    "- My initital `bus` dataset has 23158 row and 12 columns."
   ]
  },
  {
   "cell_type": "markdown",
   "metadata": {},
   "source": [
    "### Volcanoes"
   ]
  },
  {
   "cell_type": "code",
   "execution_count": 2,
   "metadata": {},
   "outputs": [
    {
     "data": {
      "text/plain": [
       "(659, 36)"
      ]
     },
     "execution_count": 2,
     "metadata": {},
     "output_type": "execute_result"
    }
   ],
   "source": [
    "volcanoes = pd.read_excel('eruptions.xlsx')\n",
    "volcanoes.shape"
   ]
  },
  {
   "cell_type": "code",
   "execution_count": 3,
   "metadata": {},
   "outputs": [
    {
     "name": "stdout",
     "output_type": "stream",
     "text": [
      "<class 'pandas.core.frame.DataFrame'>\n",
      "RangeIndex: 659 entries, 0 to 658\n",
      "Data columns (total 36 columns):\n",
      " #   Column                              Non-Null Count  Dtype  \n",
      "---  ------                              --------------  -----  \n",
      " 0   Year                                658 non-null    float64\n",
      " 1   Month                               552 non-null    float64\n",
      " 2   Day                                 499 non-null    float64\n",
      " 3   Associated Tsunami?                 133 non-null    object \n",
      " 4   Associated Earthquake?              55 non-null     object \n",
      " 5   Name                                658 non-null    object \n",
      " 6   Location                            658 non-null    object \n",
      " 7   Country                             658 non-null    object \n",
      " 8   Latitude                            658 non-null    float64\n",
      " 9   Longitude                           658 non-null    float64\n",
      " 10  Elevation                           658 non-null    float64\n",
      " 11  Type                                658 non-null    object \n",
      " 12  Status                              658 non-null    object \n",
      " 13  Time                                658 non-null    object \n",
      " 14  Volcano Explosivity Index (VEI)     570 non-null    float64\n",
      " 15  Agent                               314 non-null    object \n",
      " 16  DEATHS                              310 non-null    float64\n",
      " 17  DEATHS_DESCRIPTION                  425 non-null    float64\n",
      " 18  MISSING                             5 non-null      float64\n",
      " 19  MISSING_DESCRIPTION                 8 non-null      float64\n",
      " 20  INJURIES                            65 non-null     float64\n",
      " 21  INJURIES_DESCRIPTION                83 non-null     float64\n",
      " 22  DAMAGE_MILLIONS_DOLLARS             10 non-null     float64\n",
      " 23  DAMAGE_DESCRIPTION                  179 non-null    float64\n",
      " 24  HOUSES_DESTROYED                    24 non-null     float64\n",
      " 25  HOUSES_DESTROYED_DESCRIPTION        84 non-null     float64\n",
      " 26  TOTAL_DEATHS                        322 non-null    float64\n",
      " 27  TOTAL_DEATHS_DESCRIPTION            438 non-null    float64\n",
      " 28  TOTAL_MISSING                       4 non-null      float64\n",
      " 29  TOTAL_MISSING_DESCRIPTION           8 non-null      float64\n",
      " 30  TOTAL_INJURIES                      64 non-null     float64\n",
      " 31  TOTAL_INJURIES_DESCRIPTION          87 non-null     float64\n",
      " 32  TOTAL_DAMAGE_MILLIONS_DOLLARS       10 non-null     float64\n",
      " 33  TOTAL_DAMAGE_DESCRIPTION            184 non-null    float64\n",
      " 34  TOTAL_HOUSES_DESTROYED              27 non-null     float64\n",
      " 35  TOTAL_HOUSES_DESTROYED_DESCRIPTION  98 non-null     float64\n",
      "dtypes: float64(27), object(9)\n",
      "memory usage: 185.5+ KB\n"
     ]
    }
   ],
   "source": [
    "volcanoes.info()"
   ]
  },
  {
   "cell_type": "markdown",
   "metadata": {},
   "source": [
    "### Movies"
   ]
  },
  {
   "cell_type": "code",
   "execution_count": 4,
   "metadata": {},
   "outputs": [
    {
     "data": {
      "text/plain": [
       "(74, 8)"
      ]
     },
     "execution_count": 4,
     "metadata": {},
     "output_type": "execute_result"
    }
   ],
   "source": [
    "movies = pd.read_csv('movies.csv')\n",
    "movies.shape"
   ]
  },
  {
   "cell_type": "code",
   "execution_count": 5,
   "metadata": {},
   "outputs": [
    {
     "name": "stdout",
     "output_type": "stream",
     "text": [
      "<class 'pandas.core.frame.DataFrame'>\n",
      "RangeIndex: 74 entries, 0 to 73\n",
      "Data columns (total 8 columns):\n",
      " #   Column             Non-Null Count  Dtype  \n",
      "---  ------             --------------  -----  \n",
      " 0   Film               74 non-null     object \n",
      " 1   Genre              74 non-null     object \n",
      " 2   Lead Studio        73 non-null     object \n",
      " 3   Audience  score %  73 non-null     float64\n",
      " 4   Profitability      71 non-null     float64\n",
      " 5   Rotten Tomatoes %  73 non-null     float64\n",
      " 6   Worldwide Gross    74 non-null     float64\n",
      " 7   Year               74 non-null     int64  \n",
      "dtypes: float64(4), int64(1), object(3)\n",
      "memory usage: 4.8+ KB\n"
     ]
    }
   ],
   "source": [
    "movies.info()"
   ]
  },
  {
   "cell_type": "code",
   "execution_count": 6,
   "metadata": {},
   "outputs": [
    {
     "data": {
      "text/html": [
       "<div>\n",
       "<style scoped>\n",
       "    .dataframe tbody tr th:only-of-type {\n",
       "        vertical-align: middle;\n",
       "    }\n",
       "\n",
       "    .dataframe tbody tr th {\n",
       "        vertical-align: top;\n",
       "    }\n",
       "\n",
       "    .dataframe thead th {\n",
       "        text-align: right;\n",
       "    }\n",
       "</style>\n",
       "<table border=\"1\" class=\"dataframe\">\n",
       "  <thead>\n",
       "    <tr style=\"text-align: right;\">\n",
       "      <th></th>\n",
       "      <th>Film</th>\n",
       "      <th>Genre</th>\n",
       "      <th>Lead Studio</th>\n",
       "      <th>Audience  score %</th>\n",
       "      <th>Profitability</th>\n",
       "      <th>Rotten Tomatoes %</th>\n",
       "      <th>Worldwide Gross</th>\n",
       "      <th>Year</th>\n",
       "    </tr>\n",
       "  </thead>\n",
       "  <tbody>\n",
       "    <tr>\n",
       "      <th>0</th>\n",
       "      <td>27 Dresses</td>\n",
       "      <td>Comedy</td>\n",
       "      <td>Fox</td>\n",
       "      <td>71.0</td>\n",
       "      <td>5.343622</td>\n",
       "      <td>40.0</td>\n",
       "      <td>160.308654</td>\n",
       "      <td>2008</td>\n",
       "    </tr>\n",
       "    <tr>\n",
       "      <th>1</th>\n",
       "      <td>(500) Days of Summer</td>\n",
       "      <td>Comedy</td>\n",
       "      <td>Fox</td>\n",
       "      <td>81.0</td>\n",
       "      <td>8.096000</td>\n",
       "      <td>87.0</td>\n",
       "      <td>60.720000</td>\n",
       "      <td>2009</td>\n",
       "    </tr>\n",
       "    <tr>\n",
       "      <th>2</th>\n",
       "      <td>A Dangerous Method</td>\n",
       "      <td>Drama</td>\n",
       "      <td>Independent</td>\n",
       "      <td>89.0</td>\n",
       "      <td>0.448645</td>\n",
       "      <td>79.0</td>\n",
       "      <td>8.972895</td>\n",
       "      <td>2011</td>\n",
       "    </tr>\n",
       "    <tr>\n",
       "      <th>3</th>\n",
       "      <td>A Serious Man</td>\n",
       "      <td>Drama</td>\n",
       "      <td>Universal</td>\n",
       "      <td>64.0</td>\n",
       "      <td>4.382857</td>\n",
       "      <td>89.0</td>\n",
       "      <td>30.680000</td>\n",
       "      <td>2009</td>\n",
       "    </tr>\n",
       "    <tr>\n",
       "      <th>4</th>\n",
       "      <td>Across the Universe</td>\n",
       "      <td>Romance</td>\n",
       "      <td>Independent</td>\n",
       "      <td>84.0</td>\n",
       "      <td>0.652603</td>\n",
       "      <td>54.0</td>\n",
       "      <td>29.367143</td>\n",
       "      <td>2007</td>\n",
       "    </tr>\n",
       "  </tbody>\n",
       "</table>\n",
       "</div>"
      ],
      "text/plain": [
       "                   Film    Genre  Lead Studio  Audience  score %  \\\n",
       "0            27 Dresses   Comedy          Fox               71.0   \n",
       "1  (500) Days of Summer   Comedy          Fox               81.0   \n",
       "2    A Dangerous Method    Drama  Independent               89.0   \n",
       "3         A Serious Man    Drama    Universal               64.0   \n",
       "4   Across the Universe  Romance  Independent               84.0   \n",
       "\n",
       "   Profitability  Rotten Tomatoes %  Worldwide Gross  Year  \n",
       "0       5.343622               40.0       160.308654  2008  \n",
       "1       8.096000               87.0        60.720000  2009  \n",
       "2       0.448645               79.0         8.972895  2011  \n",
       "3       4.382857               89.0        30.680000  2009  \n",
       "4       0.652603               54.0        29.367143  2007  "
      ]
     },
     "execution_count": 6,
     "metadata": {},
     "output_type": "execute_result"
    }
   ],
   "source": [
    "movies.head()"
   ]
  },
  {
   "cell_type": "markdown",
   "metadata": {},
   "source": [
    "### Bus"
   ]
  },
  {
   "cell_type": "code",
   "execution_count": 7,
   "metadata": {},
   "outputs": [
    {
     "data": {
      "text/plain": [
       "(23158, 12)"
      ]
     },
     "execution_count": 7,
     "metadata": {},
     "output_type": "execute_result"
    }
   ],
   "source": [
    "bus = pd.read_excel('tfl_bus_safety.xlsx')\n",
    "bus.shape"
   ]
  },
  {
   "cell_type": "code",
   "execution_count": 8,
   "metadata": {},
   "outputs": [
    {
     "name": "stdout",
     "output_type": "stream",
     "text": [
      "<class 'pandas.core.frame.DataFrame'>\n",
      "RangeIndex: 23158 entries, 0 to 23157\n",
      "Data columns (total 12 columns):\n",
      " #   Column                     Non-Null Count  Dtype         \n",
      "---  ------                     --------------  -----         \n",
      " 0   Year                       23158 non-null  int64         \n",
      " 1   Date Of Incident           23158 non-null  datetime64[ns]\n",
      " 2   Route                      23158 non-null  object        \n",
      " 3   Operator                   23158 non-null  object        \n",
      " 4   Group Name                 23158 non-null  object        \n",
      " 5   Bus Garage                 23158 non-null  object        \n",
      " 6   Borough                    23158 non-null  object        \n",
      " 7   Injury Result Description  23158 non-null  object        \n",
      " 8   Incident Event Type        23158 non-null  object        \n",
      " 9   Victim Category            23158 non-null  object        \n",
      " 10  Victims Sex                23158 non-null  object        \n",
      " 11  Victims Age                23158 non-null  object        \n",
      "dtypes: datetime64[ns](1), int64(1), object(10)\n",
      "memory usage: 2.1+ MB\n"
     ]
    }
   ],
   "source": [
    "bus.info()"
   ]
  },
  {
   "cell_type": "code",
   "execution_count": 9,
   "metadata": {},
   "outputs": [
    {
     "data": {
      "text/html": [
       "<div>\n",
       "<style scoped>\n",
       "    .dataframe tbody tr th:only-of-type {\n",
       "        vertical-align: middle;\n",
       "    }\n",
       "\n",
       "    .dataframe tbody tr th {\n",
       "        vertical-align: top;\n",
       "    }\n",
       "\n",
       "    .dataframe thead th {\n",
       "        text-align: right;\n",
       "    }\n",
       "</style>\n",
       "<table border=\"1\" class=\"dataframe\">\n",
       "  <thead>\n",
       "    <tr style=\"text-align: right;\">\n",
       "      <th></th>\n",
       "      <th>Year</th>\n",
       "      <th>Date Of Incident</th>\n",
       "      <th>Route</th>\n",
       "      <th>Operator</th>\n",
       "      <th>Group Name</th>\n",
       "      <th>Bus Garage</th>\n",
       "      <th>Borough</th>\n",
       "      <th>Injury Result Description</th>\n",
       "      <th>Incident Event Type</th>\n",
       "      <th>Victim Category</th>\n",
       "      <th>Victims Sex</th>\n",
       "      <th>Victims Age</th>\n",
       "    </tr>\n",
       "  </thead>\n",
       "  <tbody>\n",
       "    <tr>\n",
       "      <th>0</th>\n",
       "      <td>2015</td>\n",
       "      <td>2015-01-01</td>\n",
       "      <td>1</td>\n",
       "      <td>London General</td>\n",
       "      <td>Go-Ahead</td>\n",
       "      <td>Garage Not Available</td>\n",
       "      <td>Southwark</td>\n",
       "      <td>Injuries treated on scene</td>\n",
       "      <td>Onboard Injuries</td>\n",
       "      <td>Passenger</td>\n",
       "      <td>Male</td>\n",
       "      <td>Child</td>\n",
       "    </tr>\n",
       "    <tr>\n",
       "      <th>1</th>\n",
       "      <td>2015</td>\n",
       "      <td>2015-01-01</td>\n",
       "      <td>4</td>\n",
       "      <td>Metroline</td>\n",
       "      <td>Metroline</td>\n",
       "      <td>Garage Not Available</td>\n",
       "      <td>Islington</td>\n",
       "      <td>Injuries treated on scene</td>\n",
       "      <td>Onboard Injuries</td>\n",
       "      <td>Passenger</td>\n",
       "      <td>Male</td>\n",
       "      <td>Unknown</td>\n",
       "    </tr>\n",
       "    <tr>\n",
       "      <th>2</th>\n",
       "      <td>2015</td>\n",
       "      <td>2015-01-01</td>\n",
       "      <td>5</td>\n",
       "      <td>East London</td>\n",
       "      <td>Stagecoach</td>\n",
       "      <td>Garage Not Available</td>\n",
       "      <td>Havering</td>\n",
       "      <td>Taken to Hospital – Reported Serious Injury or...</td>\n",
       "      <td>Onboard Injuries</td>\n",
       "      <td>Passenger</td>\n",
       "      <td>Male</td>\n",
       "      <td>Elderly</td>\n",
       "    </tr>\n",
       "    <tr>\n",
       "      <th>3</th>\n",
       "      <td>2015</td>\n",
       "      <td>2015-01-01</td>\n",
       "      <td>5</td>\n",
       "      <td>East London</td>\n",
       "      <td>Stagecoach</td>\n",
       "      <td>Garage Not Available</td>\n",
       "      <td>None London Borough</td>\n",
       "      <td>Taken to Hospital – Reported Serious Injury or...</td>\n",
       "      <td>Onboard Injuries</td>\n",
       "      <td>Passenger</td>\n",
       "      <td>Male</td>\n",
       "      <td>Elderly</td>\n",
       "    </tr>\n",
       "    <tr>\n",
       "      <th>4</th>\n",
       "      <td>2015</td>\n",
       "      <td>2015-01-01</td>\n",
       "      <td>6</td>\n",
       "      <td>Metroline</td>\n",
       "      <td>Metroline</td>\n",
       "      <td>Garage Not Available</td>\n",
       "      <td>Westminster</td>\n",
       "      <td>Reported Minor Injury - Treated at Hospital</td>\n",
       "      <td>Onboard Injuries</td>\n",
       "      <td>Pedestrian</td>\n",
       "      <td>Female</td>\n",
       "      <td>Elderly</td>\n",
       "    </tr>\n",
       "  </tbody>\n",
       "</table>\n",
       "</div>"
      ],
      "text/plain": [
       "   Year Date Of Incident Route        Operator  Group Name  \\\n",
       "0  2015       2015-01-01     1  London General    Go-Ahead   \n",
       "1  2015       2015-01-01     4       Metroline   Metroline   \n",
       "2  2015       2015-01-01     5     East London  Stagecoach   \n",
       "3  2015       2015-01-01     5     East London  Stagecoach   \n",
       "4  2015       2015-01-01     6       Metroline   Metroline   \n",
       "\n",
       "             Bus Garage              Borough  \\\n",
       "0  Garage Not Available            Southwark   \n",
       "1  Garage Not Available            Islington   \n",
       "2  Garage Not Available             Havering   \n",
       "3  Garage Not Available  None London Borough   \n",
       "4  Garage Not Available          Westminster   \n",
       "\n",
       "                           Injury Result Description Incident Event Type  \\\n",
       "0                          Injuries treated on scene    Onboard Injuries   \n",
       "1                          Injuries treated on scene    Onboard Injuries   \n",
       "2  Taken to Hospital – Reported Serious Injury or...    Onboard Injuries   \n",
       "3  Taken to Hospital – Reported Serious Injury or...    Onboard Injuries   \n",
       "4        Reported Minor Injury - Treated at Hospital    Onboard Injuries   \n",
       "\n",
       "  Victim Category Victims Sex Victims Age  \n",
       "0       Passenger        Male       Child  \n",
       "1       Passenger        Male     Unknown  \n",
       "2       Passenger        Male     Elderly  \n",
       "3       Passenger        Male     Elderly  \n",
       "4      Pedestrian      Female     Elderly  "
      ]
     },
     "execution_count": 9,
     "metadata": {},
     "output_type": "execute_result"
    }
   ],
   "source": [
    "bus.head()"
   ]
  },
  {
   "cell_type": "markdown",
   "metadata": {},
   "source": [
    "___"
   ]
  },
  {
   "cell_type": "markdown",
   "metadata": {},
   "source": [
    "## Prepare Volcanoes Data\n",
    "\n",
    "- I'm going to start with only columns that have 658 non-null values to make my dataset manageable for a MVP.\n",
    "- I will rename my columns to be lowercase.\n",
    "- Drop the first row due to missing values. This will leave my dataset at 658 rows and 9 columns."
   ]
  },
  {
   "cell_type": "code",
   "execution_count": 10,
   "metadata": {},
   "outputs": [],
   "source": [
    "volcanoes = volcanoes[['Year', 'Name', 'Location', 'Country', 'Latitude', 'Longitude', 'Elevation', 'Type', 'Status']]"
   ]
  },
  {
   "cell_type": "code",
   "execution_count": 11,
   "metadata": {},
   "outputs": [],
   "source": [
    "volcanoes.columns = ['year', 'name', 'location', 'country', 'latitude', 'longitude',\n",
    "       'elevation', 'type', 'status']"
   ]
  },
  {
   "cell_type": "code",
   "execution_count": 12,
   "metadata": {},
   "outputs": [
    {
     "name": "stdout",
     "output_type": "stream",
     "text": [
      "<class 'pandas.core.frame.DataFrame'>\n",
      "RangeIndex: 659 entries, 0 to 658\n",
      "Data columns (total 9 columns):\n",
      " #   Column     Non-Null Count  Dtype  \n",
      "---  ------     --------------  -----  \n",
      " 0   year       658 non-null    float64\n",
      " 1   name       658 non-null    object \n",
      " 2   location   658 non-null    object \n",
      " 3   country    658 non-null    object \n",
      " 4   latitude   658 non-null    float64\n",
      " 5   longitude  658 non-null    float64\n",
      " 6   elevation  658 non-null    float64\n",
      " 7   type       658 non-null    object \n",
      " 8   status     658 non-null    object \n",
      "dtypes: float64(4), object(5)\n",
      "memory usage: 46.5+ KB\n"
     ]
    }
   ],
   "source": [
    "volcanoes.info()"
   ]
  },
  {
   "cell_type": "code",
   "execution_count": 13,
   "metadata": {},
   "outputs": [
    {
     "data": {
      "text/html": [
       "<div>\n",
       "<style scoped>\n",
       "    .dataframe tbody tr th:only-of-type {\n",
       "        vertical-align: middle;\n",
       "    }\n",
       "\n",
       "    .dataframe tbody tr th {\n",
       "        vertical-align: top;\n",
       "    }\n",
       "\n",
       "    .dataframe thead th {\n",
       "        text-align: right;\n",
       "    }\n",
       "</style>\n",
       "<table border=\"1\" class=\"dataframe\">\n",
       "  <thead>\n",
       "    <tr style=\"text-align: right;\">\n",
       "      <th></th>\n",
       "      <th>year</th>\n",
       "      <th>name</th>\n",
       "      <th>location</th>\n",
       "      <th>country</th>\n",
       "      <th>latitude</th>\n",
       "      <th>longitude</th>\n",
       "      <th>elevation</th>\n",
       "      <th>type</th>\n",
       "      <th>status</th>\n",
       "    </tr>\n",
       "  </thead>\n",
       "  <tbody>\n",
       "    <tr>\n",
       "      <th>0</th>\n",
       "      <td>NaN</td>\n",
       "      <td>NaN</td>\n",
       "      <td>NaN</td>\n",
       "      <td>NaN</td>\n",
       "      <td>NaN</td>\n",
       "      <td>NaN</td>\n",
       "      <td>NaN</td>\n",
       "      <td>NaN</td>\n",
       "      <td>NaN</td>\n",
       "    </tr>\n",
       "    <tr>\n",
       "      <th>1</th>\n",
       "      <td>-4360.0</td>\n",
       "      <td>Macauley Island</td>\n",
       "      <td>Kermadec Is</td>\n",
       "      <td>New Zealand</td>\n",
       "      <td>-30.200</td>\n",
       "      <td>-178.470</td>\n",
       "      <td>238.0</td>\n",
       "      <td>Caldera</td>\n",
       "      <td>Holocene</td>\n",
       "    </tr>\n",
       "    <tr>\n",
       "      <th>2</th>\n",
       "      <td>-4350.0</td>\n",
       "      <td>Kikai</td>\n",
       "      <td>Ryukyu Is</td>\n",
       "      <td>Japan</td>\n",
       "      <td>30.780</td>\n",
       "      <td>130.280</td>\n",
       "      <td>717.0</td>\n",
       "      <td>Caldera</td>\n",
       "      <td>Historical</td>\n",
       "    </tr>\n",
       "    <tr>\n",
       "      <th>3</th>\n",
       "      <td>-4050.0</td>\n",
       "      <td>Masaya</td>\n",
       "      <td>Nicaragua</td>\n",
       "      <td>Nicaragua</td>\n",
       "      <td>11.984</td>\n",
       "      <td>-86.161</td>\n",
       "      <td>635.0</td>\n",
       "      <td>Caldera</td>\n",
       "      <td>Historical</td>\n",
       "    </tr>\n",
       "    <tr>\n",
       "      <th>4</th>\n",
       "      <td>-4000.0</td>\n",
       "      <td>Pago</td>\n",
       "      <td>New Britain-SW Pac</td>\n",
       "      <td>Papua New Guinea</td>\n",
       "      <td>-5.580</td>\n",
       "      <td>150.520</td>\n",
       "      <td>742.0</td>\n",
       "      <td>Caldera</td>\n",
       "      <td>Historical</td>\n",
       "    </tr>\n",
       "  </tbody>\n",
       "</table>\n",
       "</div>"
      ],
      "text/plain": [
       "     year             name            location           country  latitude  \\\n",
       "0     NaN              NaN                 NaN               NaN       NaN   \n",
       "1 -4360.0  Macauley Island         Kermadec Is       New Zealand   -30.200   \n",
       "2 -4350.0            Kikai           Ryukyu Is             Japan    30.780   \n",
       "3 -4050.0           Masaya           Nicaragua         Nicaragua    11.984   \n",
       "4 -4000.0             Pago  New Britain-SW Pac  Papua New Guinea    -5.580   \n",
       "\n",
       "   longitude  elevation     type      status  \n",
       "0        NaN        NaN      NaN         NaN  \n",
       "1   -178.470      238.0  Caldera    Holocene  \n",
       "2    130.280      717.0  Caldera  Historical  \n",
       "3    -86.161      635.0  Caldera  Historical  \n",
       "4    150.520      742.0  Caldera  Historical  "
      ]
     },
     "execution_count": 13,
     "metadata": {},
     "output_type": "execute_result"
    }
   ],
   "source": [
    "volcanoes.head()"
   ]
  },
  {
   "cell_type": "code",
   "execution_count": 14,
   "metadata": {},
   "outputs": [
    {
     "data": {
      "text/html": [
       "<div>\n",
       "<style scoped>\n",
       "    .dataframe tbody tr th:only-of-type {\n",
       "        vertical-align: middle;\n",
       "    }\n",
       "\n",
       "    .dataframe tbody tr th {\n",
       "        vertical-align: top;\n",
       "    }\n",
       "\n",
       "    .dataframe thead th {\n",
       "        text-align: right;\n",
       "    }\n",
       "</style>\n",
       "<table border=\"1\" class=\"dataframe\">\n",
       "  <thead>\n",
       "    <tr style=\"text-align: right;\">\n",
       "      <th></th>\n",
       "      <th>year</th>\n",
       "      <th>name</th>\n",
       "      <th>location</th>\n",
       "      <th>country</th>\n",
       "      <th>latitude</th>\n",
       "      <th>longitude</th>\n",
       "      <th>elevation</th>\n",
       "      <th>type</th>\n",
       "      <th>status</th>\n",
       "    </tr>\n",
       "  </thead>\n",
       "  <tbody>\n",
       "    <tr>\n",
       "      <th>1</th>\n",
       "      <td>-4360.0</td>\n",
       "      <td>Macauley Island</td>\n",
       "      <td>Kermadec Is</td>\n",
       "      <td>New Zealand</td>\n",
       "      <td>-30.200</td>\n",
       "      <td>-178.470</td>\n",
       "      <td>238.0</td>\n",
       "      <td>Caldera</td>\n",
       "      <td>Holocene</td>\n",
       "    </tr>\n",
       "    <tr>\n",
       "      <th>2</th>\n",
       "      <td>-4350.0</td>\n",
       "      <td>Kikai</td>\n",
       "      <td>Ryukyu Is</td>\n",
       "      <td>Japan</td>\n",
       "      <td>30.780</td>\n",
       "      <td>130.280</td>\n",
       "      <td>717.0</td>\n",
       "      <td>Caldera</td>\n",
       "      <td>Historical</td>\n",
       "    </tr>\n",
       "    <tr>\n",
       "      <th>3</th>\n",
       "      <td>-4050.0</td>\n",
       "      <td>Masaya</td>\n",
       "      <td>Nicaragua</td>\n",
       "      <td>Nicaragua</td>\n",
       "      <td>11.984</td>\n",
       "      <td>-86.161</td>\n",
       "      <td>635.0</td>\n",
       "      <td>Caldera</td>\n",
       "      <td>Historical</td>\n",
       "    </tr>\n",
       "    <tr>\n",
       "      <th>4</th>\n",
       "      <td>-4000.0</td>\n",
       "      <td>Pago</td>\n",
       "      <td>New Britain-SW Pac</td>\n",
       "      <td>Papua New Guinea</td>\n",
       "      <td>-5.580</td>\n",
       "      <td>150.520</td>\n",
       "      <td>742.0</td>\n",
       "      <td>Caldera</td>\n",
       "      <td>Historical</td>\n",
       "    </tr>\n",
       "    <tr>\n",
       "      <th>5</th>\n",
       "      <td>-3580.0</td>\n",
       "      <td>Taal</td>\n",
       "      <td>Luzon-Philippines</td>\n",
       "      <td>Philippines</td>\n",
       "      <td>14.002</td>\n",
       "      <td>120.993</td>\n",
       "      <td>400.0</td>\n",
       "      <td>Stratovolcano</td>\n",
       "      <td>Historical</td>\n",
       "    </tr>\n",
       "  </tbody>\n",
       "</table>\n",
       "</div>"
      ],
      "text/plain": [
       "     year             name            location           country  latitude  \\\n",
       "1 -4360.0  Macauley Island         Kermadec Is       New Zealand   -30.200   \n",
       "2 -4350.0            Kikai           Ryukyu Is             Japan    30.780   \n",
       "3 -4050.0           Masaya           Nicaragua         Nicaragua    11.984   \n",
       "4 -4000.0             Pago  New Britain-SW Pac  Papua New Guinea    -5.580   \n",
       "5 -3580.0             Taal   Luzon-Philippines       Philippines    14.002   \n",
       "\n",
       "   longitude  elevation           type      status  \n",
       "1   -178.470      238.0        Caldera    Holocene  \n",
       "2    130.280      717.0        Caldera  Historical  \n",
       "3    -86.161      635.0        Caldera  Historical  \n",
       "4    150.520      742.0        Caldera  Historical  \n",
       "5    120.993      400.0  Stratovolcano  Historical  "
      ]
     },
     "execution_count": 14,
     "metadata": {},
     "output_type": "execute_result"
    }
   ],
   "source": [
    "# drop the first row because of Null values, no year.\n",
    "\n",
    "volcanoes = volcanoes[~volcanoes.year.isna()]\n",
    "volcanoes.head()"
   ]
  },
  {
   "cell_type": "code",
   "execution_count": 15,
   "metadata": {},
   "outputs": [
    {
     "name": "stdout",
     "output_type": "stream",
     "text": [
      "Etna                      19\n",
      "Merapi                    17\n",
      "Mayon                     17\n",
      "Kelut                     16\n",
      "Semeru                    16\n",
      "Asama                     16\n",
      "Hekla                     15\n",
      "Vesuvius                  15\n",
      "Katla                     15\n",
      "Sakura-jima               14\n",
      "Kilauea                   12\n",
      "Gamalama                   9\n",
      "Aso                        9\n",
      "Fuego                      9\n",
      "Karangetang [Api Siau]     8\n",
      "Dieng Volc Complex         8\n",
      "Tungurahua                 8\n",
      "Stromboli                  8\n",
      "Kirishima                  8\n",
      "Taal                       7\n",
      "Santorini                  7\n",
      "Paluweh                    7\n",
      "Krakatau                   7\n",
      "Myojun Knoll               6\n",
      "Soufriere Hills            6\n",
      "Grimsvotn                  6\n",
      "Banda Api                  6\n",
      "Awu                        6\n",
      "Bardarbunga                6\n",
      "Usu                        5\n",
      "Name: name, dtype: int64\n",
      "-------------------\n",
      "Java                    76\n",
      "Italy                   44\n",
      "Kyushu-Japan            35\n",
      "Luzon-Philippines       33\n",
      "Iceland-S               32\n",
      "Honshu-Japan            26\n",
      "Lesser Sunda Is         20\n",
      "Sangihe Is-Indonesia    19\n",
      "Izu Is-Japan            19\n",
      "Hawaiian Is             16\n",
      "Guatemala               16\n",
      "Halmahera-Indonesia     16\n",
      "Ecuador                 15\n",
      "Iceland-NE              15\n",
      "W Indies                14\n",
      "Hokkaido-Japan          13\n",
      "Vanuatu-SW Pacific      12\n",
      "Kamchatka               12\n",
      "New Britain-SW Pac      11\n",
      "New Guinea-NE of        10\n",
      "Chile-C                  9\n",
      "Banda Sea                9\n",
      "Mexico                   9\n",
      "Colombia                 9\n",
      "Sumatra                  8\n",
      "Aleutian Is              8\n",
      "Indonesia                7\n",
      "Greece                   7\n",
      "Azores                   6\n",
      "Alaska-SW                6\n",
      "Name: location, dtype: int64\n",
      "-------------------\n",
      "Indonesia           152\n",
      "Japan                97\n",
      "Iceland              51\n",
      "Italy                44\n",
      "United States        41\n",
      "Philippines          38\n",
      "Papua New Guinea     27\n",
      "Russia               16\n",
      "Guatemala            16\n",
      "Ecuador              16\n",
      "Chile                14\n",
      "Vanuatu              12\n",
      "Pacific Ocean         9\n",
      "Colombia              9\n",
      "Mexico                9\n",
      "New Zealand           9\n",
      "Greece                7\n",
      "Montserrat            6\n",
      "Portugal              6\n",
      "Nicaragua             6\n",
      "El Salvador           5\n",
      "Tanzania              5\n",
      "Solomon Is.           5\n",
      "Comoros               5\n",
      "Ethiopia              4\n",
      "Spain                 4\n",
      "Costa Rica            4\n",
      "Martinique            4\n",
      "Peru                  4\n",
      "Congo, DRC            4\n",
      "Name: country, dtype: int64\n",
      "-------------------\n",
      "Stratovolcano         416\n",
      "Complex volcano        69\n",
      "Shield volcano         54\n",
      "Caldera                52\n",
      "Subglacial volcano     15\n",
      "Submarine volcano      14\n",
      "Pyroclastic shield      9\n",
      "Lava dome               7\n",
      "Fissure vent            4\n",
      "Tuff cone               3\n",
      "Volcanic field          3\n",
      "Pyroclastic cone        3\n",
      "Compound volcano        2\n",
      "Cinder cone             2\n",
      "Crater rows             1\n",
      "Mud volcano             1\n",
      "Maar                    1\n",
      "Pumice cone             1\n",
      "Lava cone               1\n",
      "Name: type, dtype: int64\n",
      "-------------------\n",
      "Historical      622\n",
      "Holocene         20\n",
      "Radiocarbon      10\n",
      "Anthropology      4\n",
      "Uncertain         1\n",
      "Fumarolic         1\n",
      "Name: status, dtype: int64\n",
      "-------------------\n"
     ]
    }
   ],
   "source": [
    "for col in volcanoes.columns:\n",
    "    if volcanoes[col].dtype == 'object':\n",
    "        print(volcanoes[col].value_counts(dropna=False).head(30))\n",
    "        print('-------------------')"
   ]
  },
  {
   "cell_type": "code",
   "execution_count": 16,
   "metadata": {},
   "outputs": [
    {
     "data": {
      "text/html": [
       "<div>\n",
       "<style scoped>\n",
       "    .dataframe tbody tr th:only-of-type {\n",
       "        vertical-align: middle;\n",
       "    }\n",
       "\n",
       "    .dataframe tbody tr th {\n",
       "        vertical-align: top;\n",
       "    }\n",
       "\n",
       "    .dataframe thead th {\n",
       "        text-align: right;\n",
       "    }\n",
       "</style>\n",
       "<table border=\"1\" class=\"dataframe\">\n",
       "  <thead>\n",
       "    <tr style=\"text-align: right;\">\n",
       "      <th></th>\n",
       "      <th>count</th>\n",
       "      <th>mean</th>\n",
       "      <th>std</th>\n",
       "      <th>min</th>\n",
       "      <th>25%</th>\n",
       "      <th>50%</th>\n",
       "      <th>75%</th>\n",
       "      <th>max</th>\n",
       "    </tr>\n",
       "  </thead>\n",
       "  <tbody>\n",
       "    <tr>\n",
       "      <th>year</th>\n",
       "      <td>658.0</td>\n",
       "      <td>1671.405775</td>\n",
       "      <td>786.005793</td>\n",
       "      <td>-4360.00</td>\n",
       "      <td>1730.000</td>\n",
       "      <td>1895.000</td>\n",
       "      <td>1967.00000</td>\n",
       "      <td>2014.00</td>\n",
       "    </tr>\n",
       "    <tr>\n",
       "      <th>latitude</th>\n",
       "      <td>658.0</td>\n",
       "      <td>16.306745</td>\n",
       "      <td>26.102522</td>\n",
       "      <td>-62.97</td>\n",
       "      <td>-6.102</td>\n",
       "      <td>13.736</td>\n",
       "      <td>36.40400</td>\n",
       "      <td>65.73</td>\n",
       "    </tr>\n",
       "    <tr>\n",
       "      <th>longitude</th>\n",
       "      <td>658.0</td>\n",
       "      <td>49.928179</td>\n",
       "      <td>100.351199</td>\n",
       "      <td>-178.47</td>\n",
       "      <td>-19.700</td>\n",
       "      <td>110.442</td>\n",
       "      <td>129.96775</td>\n",
       "      <td>177.18</td>\n",
       "    </tr>\n",
       "    <tr>\n",
       "      <th>elevation</th>\n",
       "      <td>658.0</td>\n",
       "      <td>1936.869301</td>\n",
       "      <td>1244.770279</td>\n",
       "      <td>-642.00</td>\n",
       "      <td>1053.000</td>\n",
       "      <td>1695.000</td>\n",
       "      <td>2565.00000</td>\n",
       "      <td>5967.00</td>\n",
       "    </tr>\n",
       "  </tbody>\n",
       "</table>\n",
       "</div>"
      ],
      "text/plain": [
       "           count         mean          std      min       25%       50%  \\\n",
       "year       658.0  1671.405775   786.005793 -4360.00  1730.000  1895.000   \n",
       "latitude   658.0    16.306745    26.102522   -62.97    -6.102    13.736   \n",
       "longitude  658.0    49.928179   100.351199  -178.47   -19.700   110.442   \n",
       "elevation  658.0  1936.869301  1244.770279  -642.00  1053.000  1695.000   \n",
       "\n",
       "                  75%      max  \n",
       "year       1967.00000  2014.00  \n",
       "latitude     36.40400    65.73  \n",
       "longitude   129.96775   177.18  \n",
       "elevation  2565.00000  5967.00  "
      ]
     },
     "execution_count": 16,
     "metadata": {},
     "output_type": "execute_result"
    }
   ],
   "source": [
    "volcanoes.describe().T"
   ]
  },
  {
   "cell_type": "markdown",
   "metadata": {},
   "source": [
    "___"
   ]
  },
  {
   "cell_type": "markdown",
   "metadata": {},
   "source": [
    "## Prepare Movies Data\n",
    "\n",
    "- Rename columns to be all lowercase.\n",
    "- I'm going to drop any rows with NULL values for this mvp. This leaves me with 69 rows and 8 columns.\n"
   ]
  },
  {
   "cell_type": "code",
   "execution_count": 17,
   "metadata": {},
   "outputs": [
    {
     "data": {
      "text/html": [
       "<div>\n",
       "<style scoped>\n",
       "    .dataframe tbody tr th:only-of-type {\n",
       "        vertical-align: middle;\n",
       "    }\n",
       "\n",
       "    .dataframe tbody tr th {\n",
       "        vertical-align: top;\n",
       "    }\n",
       "\n",
       "    .dataframe thead th {\n",
       "        text-align: right;\n",
       "    }\n",
       "</style>\n",
       "<table border=\"1\" class=\"dataframe\">\n",
       "  <thead>\n",
       "    <tr style=\"text-align: right;\">\n",
       "      <th></th>\n",
       "      <th>Film</th>\n",
       "      <th>Genre</th>\n",
       "      <th>Lead Studio</th>\n",
       "      <th>Audience  score %</th>\n",
       "      <th>Profitability</th>\n",
       "      <th>Rotten Tomatoes %</th>\n",
       "      <th>Worldwide Gross</th>\n",
       "      <th>Year</th>\n",
       "    </tr>\n",
       "  </thead>\n",
       "  <tbody>\n",
       "    <tr>\n",
       "      <th>0</th>\n",
       "      <td>27 Dresses</td>\n",
       "      <td>Comedy</td>\n",
       "      <td>Fox</td>\n",
       "      <td>71.0</td>\n",
       "      <td>5.343622</td>\n",
       "      <td>40.0</td>\n",
       "      <td>160.308654</td>\n",
       "      <td>2008</td>\n",
       "    </tr>\n",
       "    <tr>\n",
       "      <th>1</th>\n",
       "      <td>(500) Days of Summer</td>\n",
       "      <td>Comedy</td>\n",
       "      <td>Fox</td>\n",
       "      <td>81.0</td>\n",
       "      <td>8.096000</td>\n",
       "      <td>87.0</td>\n",
       "      <td>60.720000</td>\n",
       "      <td>2009</td>\n",
       "    </tr>\n",
       "    <tr>\n",
       "      <th>2</th>\n",
       "      <td>A Dangerous Method</td>\n",
       "      <td>Drama</td>\n",
       "      <td>Independent</td>\n",
       "      <td>89.0</td>\n",
       "      <td>0.448645</td>\n",
       "      <td>79.0</td>\n",
       "      <td>8.972895</td>\n",
       "      <td>2011</td>\n",
       "    </tr>\n",
       "    <tr>\n",
       "      <th>3</th>\n",
       "      <td>A Serious Man</td>\n",
       "      <td>Drama</td>\n",
       "      <td>Universal</td>\n",
       "      <td>64.0</td>\n",
       "      <td>4.382857</td>\n",
       "      <td>89.0</td>\n",
       "      <td>30.680000</td>\n",
       "      <td>2009</td>\n",
       "    </tr>\n",
       "    <tr>\n",
       "      <th>4</th>\n",
       "      <td>Across the Universe</td>\n",
       "      <td>Romance</td>\n",
       "      <td>Independent</td>\n",
       "      <td>84.0</td>\n",
       "      <td>0.652603</td>\n",
       "      <td>54.0</td>\n",
       "      <td>29.367143</td>\n",
       "      <td>2007</td>\n",
       "    </tr>\n",
       "  </tbody>\n",
       "</table>\n",
       "</div>"
      ],
      "text/plain": [
       "                   Film    Genre  Lead Studio  Audience  score %  \\\n",
       "0            27 Dresses   Comedy          Fox               71.0   \n",
       "1  (500) Days of Summer   Comedy          Fox               81.0   \n",
       "2    A Dangerous Method    Drama  Independent               89.0   \n",
       "3         A Serious Man    Drama    Universal               64.0   \n",
       "4   Across the Universe  Romance  Independent               84.0   \n",
       "\n",
       "   Profitability  Rotten Tomatoes %  Worldwide Gross  Year  \n",
       "0       5.343622               40.0       160.308654  2008  \n",
       "1       8.096000               87.0        60.720000  2009  \n",
       "2       0.448645               79.0         8.972895  2011  \n",
       "3       4.382857               89.0        30.680000  2009  \n",
       "4       0.652603               54.0        29.367143  2007  "
      ]
     },
     "execution_count": 17,
     "metadata": {},
     "output_type": "execute_result"
    }
   ],
   "source": [
    "movies.head()"
   ]
  },
  {
   "cell_type": "code",
   "execution_count": 18,
   "metadata": {},
   "outputs": [],
   "source": [
    "movies.columns = ['film', 'genre', 'lead_studio', 'audience_score_pcnt', 'profitability',\n",
    "       'rotten_tomatoes_pcnt', 'worldwide_gross', 'year']"
   ]
  },
  {
   "cell_type": "code",
   "execution_count": 19,
   "metadata": {},
   "outputs": [
    {
     "name": "stdout",
     "output_type": "stream",
     "text": [
      "<class 'pandas.core.frame.DataFrame'>\n",
      "RangeIndex: 74 entries, 0 to 73\n",
      "Data columns (total 8 columns):\n",
      " #   Column                Non-Null Count  Dtype  \n",
      "---  ------                --------------  -----  \n",
      " 0   film                  74 non-null     object \n",
      " 1   genre                 74 non-null     object \n",
      " 2   lead_studio           73 non-null     object \n",
      " 3   audience_score_pcnt   73 non-null     float64\n",
      " 4   profitability         71 non-null     float64\n",
      " 5   rotten_tomatoes_pcnt  73 non-null     float64\n",
      " 6   worldwide_gross       74 non-null     float64\n",
      " 7   year                  74 non-null     int64  \n",
      "dtypes: float64(4), int64(1), object(3)\n",
      "memory usage: 4.8+ KB\n"
     ]
    }
   ],
   "source": [
    "movies.info()"
   ]
  },
  {
   "cell_type": "code",
   "execution_count": 20,
   "metadata": {},
   "outputs": [
    {
     "data": {
      "text/plain": [
       "(69, 8)"
      ]
     },
     "execution_count": 20,
     "metadata": {},
     "output_type": "execute_result"
    }
   ],
   "source": [
    "movies = movies.dropna()\n",
    "movies.shape"
   ]
  },
  {
   "cell_type": "code",
   "execution_count": 21,
   "metadata": {},
   "outputs": [
    {
     "name": "stdout",
     "output_type": "stream",
     "text": [
      "The film column has 69 unique values\n",
      "\n",
      "Knocked Up                             1\n",
      "Remember Me                            1\n",
      "Rachel Getting Married                 1\n",
      "Tangled                                1\n",
      "Miss Pettigrew Lives for a Day         1\n",
      "It's Complicated                       1\n",
      "Across the Universe                    1\n",
      "Nick and Norah's Infinite Playlist     1\n",
      "Love & Other Drugs                     1\n",
      "The Duchess                            1\n",
      "The Time Traveler's Wife               1\n",
      "Mamma Mia!                             1\n",
      "Beginners                              1\n",
      "Fireproof                              1\n",
      "The Proposal                           1\n",
      "The Invention of Lying                 1\n",
      "Waitress                               1\n",
      "Gnomeo and Juliet                      1\n",
      "Just Wright                            1\n",
      "License to Wed                         1\n",
      "Water For Elephants                    1\n",
      "The Curious Case of Benjamin Button    1\n",
      "P.S. I Love You                        1\n",
      "Made of Honor                          1\n",
      "Monte Carlo                            1\n",
      "Over Her Dead Body                     1\n",
      "One Day                                1\n",
      "Ghosts of Girlfriends Past             1\n",
      "27 Dresses                             1\n",
      "Valentine's Day                        1\n",
      "Name: film, dtype: int64\n",
      "-------------------\n",
      "The genre column has 6 unique values\n",
      "\n",
      "Comedy       38\n",
      "Romance      13\n",
      "Drama        13\n",
      "Animation     3\n",
      "Action        1\n",
      "Fantasy       1\n",
      "Name: genre, dtype: int64\n",
      "-------------------\n",
      "The lead_studio column has 13 unique values\n",
      "\n",
      "Independent              17\n",
      "Warner Bros.             12\n",
      "Fox                       6\n",
      "Universal                 6\n",
      "Disney                    6\n",
      "Summit                    5\n",
      "Sony                      4\n",
      "Paramount                 4\n",
      "The Weinstein Company     3\n",
      "20th Century Fox          2\n",
      "Lionsgate                 2\n",
      "CBS                       1\n",
      "New Line                  1\n",
      "Name: lead_studio, dtype: int64\n",
      "-------------------\n"
     ]
    }
   ],
   "source": [
    "for col in movies.columns:\n",
    "    if movies[col].dtype == 'object':\n",
    "        print(f'The {col} column has {movies[col].nunique()} unique values')\n",
    "        print('')\n",
    "        print(movies[col].value_counts(dropna=False).head(30))\n",
    "        print('-------------------')"
   ]
  },
  {
   "cell_type": "code",
   "execution_count": 22,
   "metadata": {},
   "outputs": [
    {
     "data": {
      "text/html": [
       "<div>\n",
       "<style scoped>\n",
       "    .dataframe tbody tr th:only-of-type {\n",
       "        vertical-align: middle;\n",
       "    }\n",
       "\n",
       "    .dataframe tbody tr th {\n",
       "        vertical-align: top;\n",
       "    }\n",
       "\n",
       "    .dataframe thead th {\n",
       "        text-align: right;\n",
       "    }\n",
       "</style>\n",
       "<table border=\"1\" class=\"dataframe\">\n",
       "  <thead>\n",
       "    <tr style=\"text-align: right;\">\n",
       "      <th></th>\n",
       "      <th>count</th>\n",
       "      <th>mean</th>\n",
       "      <th>50%</th>\n",
       "    </tr>\n",
       "  </thead>\n",
       "  <tbody>\n",
       "    <tr>\n",
       "      <th>audience_score_pcnt</th>\n",
       "      <td>69.0</td>\n",
       "      <td>64.463768</td>\n",
       "      <td>65.000000</td>\n",
       "    </tr>\n",
       "    <tr>\n",
       "      <th>profitability</th>\n",
       "      <td>69.0</td>\n",
       "      <td>4.806197</td>\n",
       "      <td>2.642353</td>\n",
       "    </tr>\n",
       "    <tr>\n",
       "      <th>rotten_tomatoes_pcnt</th>\n",
       "      <td>69.0</td>\n",
       "      <td>47.884058</td>\n",
       "      <td>46.000000</td>\n",
       "    </tr>\n",
       "    <tr>\n",
       "      <th>worldwide_gross</th>\n",
       "      <td>69.0</td>\n",
       "      <td>142.647904</td>\n",
       "      <td>79.180000</td>\n",
       "    </tr>\n",
       "    <tr>\n",
       "      <th>year</th>\n",
       "      <td>69.0</td>\n",
       "      <td>2009.000000</td>\n",
       "      <td>2009.000000</td>\n",
       "    </tr>\n",
       "  </tbody>\n",
       "</table>\n",
       "</div>"
      ],
      "text/plain": [
       "                      count         mean          50%\n",
       "audience_score_pcnt    69.0    64.463768    65.000000\n",
       "profitability          69.0     4.806197     2.642353\n",
       "rotten_tomatoes_pcnt   69.0    47.884058    46.000000\n",
       "worldwide_gross        69.0   142.647904    79.180000\n",
       "year                   69.0  2009.000000  2009.000000"
      ]
     },
     "execution_count": 22,
     "metadata": {},
     "output_type": "execute_result"
    }
   ],
   "source": [
    "# I see a big difference in the mean and median values of profitability, so I'll go with median.\n",
    "\n",
    "movies_stats = movies.describe().T\n",
    "movies_stats[['count', 'mean', '50%']]"
   ]
  },
  {
   "cell_type": "markdown",
   "metadata": {},
   "source": [
    "___"
   ]
  },
  {
   "cell_type": "markdown",
   "metadata": {},
   "source": [
    "## Prepare Bus Dataset\n",
    "\n",
    "- Rename columns to all be lowercase.\n",
    "- Encode `victims_age`?\n",
    "- 8752 `Garage Not Available`, so I will drop this column\n",
    "- The most common route in the dataset is `OOS` or Out Of Service.\n",
    "- The `group_name` column is so imbalanced that I will either use only a subset of groups from the dataset or drop this column. One of the groups only has 1 observation, so I can't even stratify the values in that column reasonably in a train, validate, test split.\n",
    "- "
   ]
  },
  {
   "cell_type": "code",
   "execution_count": 23,
   "metadata": {},
   "outputs": [],
   "source": [
    "bus.columns = ['year', 'incident_date', 'route', 'operator', 'group_name',\n",
    "       'bus_garage', 'borough', 'injury_result_description',\n",
    "       'incident_event_type', 'victim_category', 'victims_sex', 'victims_age']"
   ]
  },
  {
   "cell_type": "code",
   "execution_count": 24,
   "metadata": {},
   "outputs": [
    {
     "name": "stdout",
     "output_type": "stream",
     "text": [
      "<class 'pandas.core.frame.DataFrame'>\n",
      "RangeIndex: 23158 entries, 0 to 23157\n",
      "Data columns (total 12 columns):\n",
      " #   Column                     Non-Null Count  Dtype         \n",
      "---  ------                     --------------  -----         \n",
      " 0   year                       23158 non-null  int64         \n",
      " 1   incident_date              23158 non-null  datetime64[ns]\n",
      " 2   route                      23158 non-null  object        \n",
      " 3   operator                   23158 non-null  object        \n",
      " 4   group_name                 23158 non-null  object        \n",
      " 5   bus_garage                 23158 non-null  object        \n",
      " 6   borough                    23158 non-null  object        \n",
      " 7   injury_result_description  23158 non-null  object        \n",
      " 8   incident_event_type        23158 non-null  object        \n",
      " 9   victim_category            23158 non-null  object        \n",
      " 10  victims_sex                23158 non-null  object        \n",
      " 11  victims_age                23158 non-null  object        \n",
      "dtypes: datetime64[ns](1), int64(1), object(10)\n",
      "memory usage: 2.1+ MB\n"
     ]
    }
   ],
   "source": [
    "bus.info()"
   ]
  },
  {
   "cell_type": "code",
   "execution_count": 25,
   "metadata": {},
   "outputs": [
    {
     "name": "stdout",
     "output_type": "stream",
     "text": [
      "The route column has 612 unique values\n",
      "\n",
      "OOS    321\n",
      "18     191\n",
      "55     177\n",
      "24     165\n",
      "73     156\n",
      "96     155\n",
      "149    154\n",
      "207    153\n",
      "25     143\n",
      "12     136\n",
      "137    136\n",
      "65     136\n",
      "390    135\n",
      "38     133\n",
      "142    132\n",
      "253    131\n",
      "281    130\n",
      "53     130\n",
      "254    126\n",
      "29     124\n",
      "205    123\n",
      "177    121\n",
      "86     121\n",
      "144    120\n",
      "197    120\n",
      "60     120\n",
      "453    118\n",
      "88     117\n",
      "220    117\n",
      "174    115\n",
      "Name: route, dtype: int64\n",
      "-------------------\n",
      "The operator column has 25 unique values\n",
      "\n",
      "Metroline                3457\n",
      "Arriva London North      3208\n",
      "East London              2402\n",
      "London United            2263\n",
      "Selkent                  1808\n",
      "Arriva London South      1743\n",
      "London General           1723\n",
      "London Central           1367\n",
      "Metroline West           1232\n",
      "Abellio London            963\n",
      "Metrobus                  786\n",
      "Tower Transit             738\n",
      "Arriva The Shires         305\n",
      "Blue Triangle Buses       281\n",
      "London Sovereign          206\n",
      "Quality Line              142\n",
      "Abellio West              126\n",
      "Arriva Kent Thameside     107\n",
      "Docklands Buses           100\n",
      "C T Plus                   77\n",
      "TGM GROUP                  61\n",
      "H R Richmond               59\n",
      "Sullivan Buses              2\n",
      "Sullivan Bus & Coach        1\n",
      "Uno Buses                   1\n",
      "Name: operator, dtype: int64\n",
      "-------------------\n",
      "The group_name column has 14 unique values\n",
      "\n",
      "Arriva London            4945\n",
      "Metroline                4690\n",
      "Go-Ahead                 4258\n",
      "Stagecoach               4192\n",
      "London United            2469\n",
      "Abellio                  1089\n",
      "Tower Transit             757\n",
      "Arriva The Shires         306\n",
      "Quality Line              201\n",
      "Arriva Kent Thameside     107\n",
      "CT Plus                    77\n",
      "TGM                        63\n",
      "Sullivan Buses              3\n",
      "Uno Buses                   1\n",
      "Name: group_name, dtype: int64\n",
      "-------------------\n",
      "The bus_garage column has 84 unique values\n",
      "\n",
      "Garage Not Available           8572\n",
      "Plumstead                       570\n",
      "Holloway                        448\n",
      "Cricklewood                     401\n",
      "Tottenham                       397\n",
      "Camberwell                      381\n",
      "Fulwell (London United)         376\n",
      "Lea Interchange                 375\n",
      "Catford                         370\n",
      "New Cross                       369\n",
      "Stockwell                       367\n",
      "Croydon (Arriva)                348\n",
      "Potters Bar                     318\n",
      "Wood Green                      314\n",
      "Rainham (East London Buses)     286\n",
      "West Ham                        279\n",
      "Walworth                        269\n",
      "Norwood                         256\n",
      "Enfield                         243\n",
      "Leyton                          242\n",
      "Uxbridge                        237\n",
      "River Road                      237\n",
      "Brixton                         233\n",
      "Bromley                         231\n",
      "Stamford Hill                   228\n",
      "Thornton Heath                  228\n",
      "Hounslow                        218\n",
      "Romford (East London Buses)     218\n",
      "Willesden                       214\n",
      "Barking (East London Buses)     214\n",
      "Name: bus_garage, dtype: int64\n",
      "-------------------\n",
      "The borough column has 35 unique values\n",
      "\n",
      "Westminster             1571\n",
      "Lambeth                 1107\n",
      "Southwark               1107\n",
      "Croydon                 1032\n",
      "Lewisham                1006\n",
      "Barnet                   922\n",
      "Camden                   900\n",
      "Brent                    887\n",
      "Ealing                   863\n",
      "Greenwich                832\n",
      "Haringey                 831\n",
      "Hackney                  796\n",
      "Islington                769\n",
      "Bromley                  673\n",
      "Havering                 652\n",
      "Hounslow                 642\n",
      "Newham                   634\n",
      "Hammersmith & Fulham     632\n",
      "Enfield                  584\n",
      "None London Borough      561\n",
      "Not specified            553\n",
      "Wandsworth               551\n",
      "Waltham Forest           526\n",
      "Hillingdon               517\n",
      "Redbridge                470\n",
      "Kingston upon Thames     451\n",
      "Tower Hamlets            435\n",
      "Bexley                   414\n",
      "Richmond Upon Thames     403\n",
      "Harrow                   384\n",
      "Name: borough, dtype: int64\n",
      "-------------------\n",
      "The injury_result_description column has 4 unique values\n",
      "\n",
      "Injuries treated on scene                                          17336\n",
      "Taken to Hospital – Reported Serious Injury or Severity Unknown     2994\n",
      "Reported Minor Injury - Treated at Hospital                         2786\n",
      "Fatal                                                                 42\n",
      "Name: injury_result_description, dtype: int64\n",
      "-------------------\n",
      "The incident_event_type column has 10 unique values\n",
      "\n",
      "Slip Trip Fall             6981\n",
      "Onboard Injuries           6563\n",
      "Personal Injury            4596\n",
      "Collision Incident         4166\n",
      "Assault                     590\n",
      "Activity Incident Event     114\n",
      "Vandalism Hooliganism        73\n",
      "Safety Critical Failure      66\n",
      "Fire                          6\n",
      "Robbery                       3\n",
      "Name: incident_event_type, dtype: int64\n",
      "-------------------\n",
      "The victim_category column has 17 unique values\n",
      "\n",
      "Passenger                      18828\n",
      "Pedestrian                      1612\n",
      "Bus Driver                      1484\n",
      "3rd Party driver / Occupant      573\n",
      "Cyclist                          275\n",
      "Member Of Public                 127\n",
      "Motorcyclist                     102\n",
      "Operational Staff                 59\n",
      "Cyclist                           33\n",
      "Conductor                         28\n",
      "Other                             16\n",
      "Contractor Staff                   6\n",
      "TfL Staff                          4\n",
      "Non-Operational Staff              4\n",
      "Motorcyclist                       4\n",
      "Insufficient Data                  2\n",
      "Operations staff (other)           1\n",
      "Name: victim_category, dtype: int64\n",
      "-------------------\n",
      "The victims_sex column has 3 unique values\n",
      "\n",
      "Female     11847\n",
      "Male        7709\n",
      "Unknown     3602\n",
      "Name: victims_sex, dtype: int64\n",
      "-------------------\n",
      "The victims_age column has 5 unique values\n",
      "\n",
      "Adult      10754\n",
      "Unknown     7135\n",
      "Elderly     2769\n",
      "Child       2181\n",
      "Youth        319\n",
      "Name: victims_age, dtype: int64\n",
      "-------------------\n"
     ]
    }
   ],
   "source": [
    "for col in bus.columns:\n",
    "    if bus[col].dtype == 'object':\n",
    "        print(f'The {col} column has {bus[col].nunique()} unique values')\n",
    "        print('')\n",
    "        print(bus[col].value_counts(dropna=False).head(30))\n",
    "        print('-------------------')"
   ]
  },
  {
   "cell_type": "code",
   "execution_count": 26,
   "metadata": {},
   "outputs": [
    {
     "data": {
      "text/html": [
       "<div>\n",
       "<style scoped>\n",
       "    .dataframe tbody tr th:only-of-type {\n",
       "        vertical-align: middle;\n",
       "    }\n",
       "\n",
       "    .dataframe tbody tr th {\n",
       "        vertical-align: top;\n",
       "    }\n",
       "\n",
       "    .dataframe thead th {\n",
       "        text-align: right;\n",
       "    }\n",
       "</style>\n",
       "<table border=\"1\" class=\"dataframe\">\n",
       "  <thead>\n",
       "    <tr style=\"text-align: right;\">\n",
       "      <th></th>\n",
       "      <th>count</th>\n",
       "      <th>min</th>\n",
       "      <th>max</th>\n",
       "    </tr>\n",
       "  </thead>\n",
       "  <tbody>\n",
       "    <tr>\n",
       "      <th>year</th>\n",
       "      <td>23158.0</td>\n",
       "      <td>2015.0</td>\n",
       "      <td>2018.0</td>\n",
       "    </tr>\n",
       "  </tbody>\n",
       "</table>\n",
       "</div>"
      ],
      "text/plain": [
       "        count     min     max\n",
       "year  23158.0  2015.0  2018.0"
      ]
     },
     "execution_count": 26,
     "metadata": {},
     "output_type": "execute_result"
    }
   ],
   "source": [
    "bus_stats = bus.describe().T\n",
    "bus_stats[['count', 'min', 'max']]"
   ]
  },
  {
   "cell_type": "markdown",
   "metadata": {},
   "source": [
    "### Bus Prepare Takeaways\n",
    "\n",
    "- There are 612 different routes in the dataset.\n",
    "- 25 different operators.\n",
    "- 14 group names\n",
    "- 84 garages\n",
    "- 35 boroughs\n",
    "- 4 injury results\n",
    "- 10 event types\n",
    "- 17 victim categories\n",
    "- 2 victim sex categories with 3602 observations `Unknown`\n",
    "- 5 victim age categories\n",
    "- The year range is from 2015-2018."
   ]
  },
  {
   "cell_type": "markdown",
   "metadata": {},
   "source": [
    "___"
   ]
  },
  {
   "cell_type": "markdown",
   "metadata": {},
   "source": [
    "## Explore Data\n",
    "\n",
    "- I will split my data before I begin bi- and multi-variate exploration.\n",
    "- I'm not sure what my target will be yet, so I'm not going to stratify on a variable yet."
   ]
  },
  {
   "cell_type": "code",
   "execution_count": 27,
   "metadata": {},
   "outputs": [],
   "source": [
    "def bus_split(df):\n",
    "    '''\n",
    "    This function take in the tfl_bus_safety dataset acquired from a csv file,\n",
    "    performs a split and stratifies target column.\n",
    "    Returns train, validate, and test dfs.\n",
    "    '''\n",
    "    train_validate, test = train_test_split(df, test_size=.2, \n",
    "                                        random_state=123)\n",
    "    train, validate = train_test_split(train_validate, test_size=.3, \n",
    "                                   random_state=123)\n",
    "    return train, validate, test"
   ]
  },
  {
   "cell_type": "code",
   "execution_count": 28,
   "metadata": {},
   "outputs": [
    {
     "name": "stdout",
     "output_type": "stream",
     "text": [
      "train -> (12968, 12)\n",
      "validate -> (5558, 12)\n",
      "test -> (4632, 12)\n"
     ]
    }
   ],
   "source": [
    "train, validate, test = bus_split(bus)\n",
    "print(f'train -> {train.shape}')\n",
    "print(f'validate -> {validate.shape}')\n",
    "print(f'test -> {test.shape}')"
   ]
  },
  {
   "cell_type": "code",
   "execution_count": 29,
   "metadata": {},
   "outputs": [
    {
     "data": {
      "text/html": [
       "<div>\n",
       "<style scoped>\n",
       "    .dataframe tbody tr th:only-of-type {\n",
       "        vertical-align: middle;\n",
       "    }\n",
       "\n",
       "    .dataframe tbody tr th {\n",
       "        vertical-align: top;\n",
       "    }\n",
       "\n",
       "    .dataframe thead th {\n",
       "        text-align: right;\n",
       "    }\n",
       "</style>\n",
       "<table border=\"1\" class=\"dataframe\">\n",
       "  <thead>\n",
       "    <tr style=\"text-align: right;\">\n",
       "      <th></th>\n",
       "      <th>year</th>\n",
       "      <th>incident_date</th>\n",
       "      <th>route</th>\n",
       "      <th>operator</th>\n",
       "      <th>group_name</th>\n",
       "      <th>bus_garage</th>\n",
       "      <th>borough</th>\n",
       "      <th>injury_result_description</th>\n",
       "      <th>incident_event_type</th>\n",
       "      <th>victim_category</th>\n",
       "      <th>victims_sex</th>\n",
       "      <th>victims_age</th>\n",
       "    </tr>\n",
       "  </thead>\n",
       "  <tbody>\n",
       "    <tr>\n",
       "      <th>9282</th>\n",
       "      <td>2016</td>\n",
       "      <td>2016-07-01</td>\n",
       "      <td>7</td>\n",
       "      <td>Metroline</td>\n",
       "      <td>Metroline</td>\n",
       "      <td>West Perivale</td>\n",
       "      <td>Westminster</td>\n",
       "      <td>Reported Minor Injury - Treated at Hospital</td>\n",
       "      <td>Collision Incident</td>\n",
       "      <td>Bus Driver</td>\n",
       "      <td>Male</td>\n",
       "      <td>Adult</td>\n",
       "    </tr>\n",
       "    <tr>\n",
       "      <th>14204</th>\n",
       "      <td>2017</td>\n",
       "      <td>2017-05-01</td>\n",
       "      <td>262</td>\n",
       "      <td>East London</td>\n",
       "      <td>Stagecoach</td>\n",
       "      <td>West Ham</td>\n",
       "      <td>Newham</td>\n",
       "      <td>Injuries treated on scene</td>\n",
       "      <td>Slip Trip Fall</td>\n",
       "      <td>Passenger</td>\n",
       "      <td>Unknown</td>\n",
       "      <td>Unknown</td>\n",
       "    </tr>\n",
       "  </tbody>\n",
       "</table>\n",
       "</div>"
      ],
      "text/plain": [
       "       year incident_date route     operator  group_name     bus_garage  \\\n",
       "9282   2016    2016-07-01     7    Metroline   Metroline  West Perivale   \n",
       "14204  2017    2017-05-01   262  East London  Stagecoach       West Ham   \n",
       "\n",
       "           borough                    injury_result_description  \\\n",
       "9282   Westminster  Reported Minor Injury - Treated at Hospital   \n",
       "14204       Newham                    Injuries treated on scene   \n",
       "\n",
       "      incident_event_type victim_category victims_sex victims_age  \n",
       "9282   Collision Incident      Bus Driver        Male       Adult  \n",
       "14204      Slip Trip Fall       Passenger     Unknown     Unknown  "
      ]
     },
     "execution_count": 29,
     "metadata": {},
     "output_type": "execute_result"
    }
   ],
   "source": [
    "train.head(2)"
   ]
  },
  {
   "cell_type": "markdown",
   "metadata": {},
   "source": [
    "##### Narrow Down Incident Event Types to the Top Five\n",
    "\n",
    "- Slip Trip Fall             3905\n",
    "- Onboard Injuries           3744\n",
    "- Personal Injury            2571\n",
    "- Collision Incident         2278\n",
    "- Assault                     315"
   ]
  },
  {
   "cell_type": "code",
   "execution_count": 30,
   "metadata": {},
   "outputs": [
    {
     "data": {
      "text/plain": [
       "incident_event_type\n",
       "Slip Trip Fall             3905\n",
       "Onboard Injuries           3744\n",
       "Personal Injury            2571\n",
       "Collision Incident         2278\n",
       "Assault                     315\n",
       "Activity Incident Event      67\n",
       "Safety Critical Failure      43\n",
       "Vandalism Hooliganism        39\n",
       "Fire                          4\n",
       "Robbery                       2\n",
       "Name: incident_date, dtype: int64"
      ]
     },
     "execution_count": 30,
     "metadata": {},
     "output_type": "execute_result"
    }
   ],
   "source": [
    "train.groupby('incident_event_type').incident_date.count().sort_values(ascending=False)"
   ]
  },
  {
   "cell_type": "markdown",
   "metadata": {},
   "source": [
    "##### Narrow Down Borough to the Top Ten\n",
    "\n",
    "- Westminster    852\n",
    "- Southwark      610\n",
    "- Lambeth        608\n",
    "- Croydon        582\n",
    "- Lewisham       567\n",
    "- Camden         510\n",
    "- Ealing         500\n",
    "- Brent          499\n",
    "- Barnet         498\n",
    "- Haringey       474"
   ]
  },
  {
   "cell_type": "code",
   "execution_count": 31,
   "metadata": {},
   "outputs": [
    {
     "data": {
      "text/plain": [
       "borough\n",
       "Westminster             862\n",
       "Southwark               616\n",
       "Lambeth                 615\n",
       "Croydon                 585\n",
       "Lewisham                569\n",
       "Camden                  518\n",
       "Brent                   513\n",
       "Barnet                  507\n",
       "Ealing                  507\n",
       "Haringey                478\n",
       "Greenwich               460\n",
       "Hackney                 445\n",
       "Islington               421\n",
       "Bromley                 387\n",
       "Hounslow                373\n",
       "Newham                  363\n",
       "Havering                350\n",
       "Hammersmith & Fulham    340\n",
       "Enfield                 324\n",
       "None London Borough     317\n",
       "Not specified           306\n",
       "Hillingdon              304\n",
       "Waltham Forest          287\n",
       "Wandsworth              279\n",
       "Kingston upon Thames    265\n",
       "Redbridge               250\n",
       "Tower Hamlets           242\n",
       "Richmond Upon Thames    237\n",
       "Bexley                  221\n",
       "Harrow                  219\n",
       "Barking & Dagenham      210\n",
       "Kensington & Chelsea    195\n",
       "Merton                  165\n",
       "City of London          129\n",
       "Sutton                  109\n",
       "Name: incident_event_type, dtype: int64"
      ]
     },
     "execution_count": 31,
     "metadata": {},
     "output_type": "execute_result"
    }
   ],
   "source": [
    "train.groupby('borough').incident_event_type.count().sort_values(ascending=False)"
   ]
  },
  {
   "cell_type": "code",
   "execution_count": 32,
   "metadata": {},
   "outputs": [
    {
     "data": {
      "text/plain": [
       "Index(['Westminster', 'Southwark', 'Lambeth', 'Croydon', 'Lewisham', 'Camden',\n",
       "       'Brent', 'Barnet', 'Ealing', 'Haringey'],\n",
       "      dtype='object', name='borough')"
      ]
     },
     "execution_count": 32,
     "metadata": {},
     "output_type": "execute_result"
    }
   ],
   "source": [
    "train.groupby('borough').incident_event_type.count().sort_values(ascending=False).head(10).index"
   ]
  },
  {
   "cell_type": "code",
   "execution_count": 33,
   "metadata": {},
   "outputs": [],
   "source": [
    "borough_cols = ['Westminster', 'Southwark', 'Lambeth', 'Croydon', 'Lewisham', 'Camden',\n",
    "       'Ealing', 'Brent', 'Barnet', 'Haringey']"
   ]
  },
  {
   "cell_type": "code",
   "execution_count": 35,
   "metadata": {},
   "outputs": [
    {
     "data": {
      "text/plain": [
       "(5770, 12)"
      ]
     },
     "execution_count": 35,
     "metadata": {},
     "output_type": "execute_result"
    }
   ],
   "source": [
    "train = train[train['borough'].isin(borough_cols)]\n",
    "train.shape"
   ]
  },
  {
   "cell_type": "code",
   "execution_count": 36,
   "metadata": {},
   "outputs": [
    {
     "data": {
      "text/plain": [
       "(5700, 12)"
      ]
     },
     "execution_count": 36,
     "metadata": {},
     "output_type": "execute_result"
    }
   ],
   "source": [
    "# Create subset of Top 5 Injury Event types.\n",
    "\n",
    "event_cols = ['Slip Trip Fall', 'Onboard Injuries', 'Personal Injury', 'Collision Incident', 'Assault']\n",
    "train = train[train['incident_event_type'].isin(event_cols)]\n",
    "train.shape"
   ]
  },
  {
   "cell_type": "markdown",
   "metadata": {},
   "source": [
    "##### Where are Types of Incidents Happening?"
   ]
  },
  {
   "cell_type": "code",
   "execution_count": 38,
   "metadata": {},
   "outputs": [
    {
     "data": {
      "text/plain": [
       "incident_event_type  borough    \n",
       "Onboard Injuries     Westminster    243\n",
       "Slip Trip Fall       Westminster    226\n",
       "                     Lambeth        207\n",
       "                     Croydon        203\n",
       "Collision Incident   Westminster    185\n",
       "Personal Injury      Westminster    184\n",
       "Onboard Injuries     Croydon        180\n",
       "                     Southwark      179\n",
       "                     Lambeth        178\n",
       "Slip Trip Fall       Haringey       174\n",
       "Onboard Injuries     Barnet         173\n",
       "                     Lewisham       165\n",
       "Slip Trip Fall       Southwark      163\n",
       "                     Lewisham       156\n",
       "Personal Injury      Southwark      155\n",
       "Onboard Injuries     Ealing         150\n",
       "                     Camden         149\n",
       "                     Brent          147\n",
       "Personal Injury      Camden         138\n",
       "Slip Trip Fall       Brent          138\n",
       "Onboard Injuries     Haringey       136\n",
       "Personal Injury      Lewisham       131\n",
       "Slip Trip Fall       Ealing         128\n",
       "Collision Incident   Lambeth        126\n",
       "Slip Trip Fall       Barnet         121\n",
       "                     Camden         115\n",
       "Personal Injury      Ealing         112\n",
       "Collision Incident   Croydon        107\n",
       "Personal Injury      Brent          105\n",
       "Collision Incident   Lewisham       103\n",
       "Personal Injury      Barnet         100\n",
       "Collision Incident   Southwark       95\n",
       "                     Camden          94\n",
       "                     Ealing          92\n",
       "                     Barnet          89\n",
       "Personal Injury      Lambeth         85\n",
       "Collision Incident   Brent           81\n",
       "                     Haringey        78\n",
       "Personal Injury      Croydon         77\n",
       "                     Haringey        72\n",
       "Assault              Brent           28\n",
       "                     Southwark       18\n",
       "                     Ealing          18\n",
       "                     Croydon         15\n",
       "                     Barnet          15\n",
       "                     Westminster     14\n",
       "                     Haringey        14\n",
       "                     Camden          14\n",
       "                     Lewisham        12\n",
       "                     Lambeth         12\n",
       "Name: incident_date, dtype: int64"
      ]
     },
     "execution_count": 38,
     "metadata": {},
     "output_type": "execute_result"
    }
   ],
   "source": [
    "train.groupby(['incident_event_type', 'borough']).incident_date.count().sort_values(ascending=False)"
   ]
  },
  {
   "cell_type": "markdown",
   "metadata": {},
   "source": [
    "##### Should I Focus on Assault as an Incident Event Type Overall?"
   ]
  },
  {
   "cell_type": "code",
   "execution_count": 44,
   "metadata": {},
   "outputs": [
    {
     "data": {
      "text/plain": [
       "borough\n",
       "Brent          28\n",
       "Southwark      18\n",
       "Ealing         18\n",
       "Croydon        15\n",
       "Barnet         15\n",
       "Westminster    14\n",
       "Haringey       14\n",
       "Camden         14\n",
       "Lewisham       12\n",
       "Lambeth        12\n",
       "Name: incident_event_type, dtype: int64"
      ]
     },
     "execution_count": 44,
     "metadata": {},
     "output_type": "execute_result"
    }
   ],
   "source": [
    "assault_group = train[train.incident_event_type == 'Assault'].groupby('borough').incident_event_type.count().sort_values(ascending=False)\n",
    "assault_group"
   ]
  },
  {
   "cell_type": "code",
   "execution_count": null,
   "metadata": {},
   "outputs": [],
   "source": [
    "train"
   ]
  }
 ],
 "metadata": {
  "kernelspec": {
   "display_name": "Python 3",
   "language": "python",
   "name": "python3"
  },
  "language_info": {
   "codemirror_mode": {
    "name": "ipython",
    "version": 3
   },
   "file_extension": ".py",
   "mimetype": "text/x-python",
   "name": "python",
   "nbconvert_exporter": "python",
   "pygments_lexer": "ipython3",
   "version": "3.7.4"
  }
 },
 "nbformat": 4,
 "nbformat_minor": 4
}
